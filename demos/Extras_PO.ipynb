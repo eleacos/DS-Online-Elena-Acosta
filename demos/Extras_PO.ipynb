{
 "cells": [
  {
   "cell_type": "markdown",
   "id": "81049583",
   "metadata": {},
   "source": [
    "# Extras \n",
    "No presentes en entregas de prácticas obligatorias"
   ]
  },
  {
   "cell_type": "markdown",
   "id": "b6585795",
   "metadata": {},
   "source": [
    "## Comprobar directorio del notebook"
   ]
  },
  {
   "cell_type": "code",
   "execution_count": null,
   "id": "336c8680",
   "metadata": {},
   "outputs": [
    {
     "data": {
      "text/plain": [
       "'c:\\\\Users\\\\elena\\\\Desktop\\\\ds_bootcamp\\\\bootcamp_data\\\\DS-Online-Elena-Acosta\\\\01_Programacion_Basica\\\\Sprint_01\\\\Unidad_01_Introduccion_Herramientas\\\\02_Ejercicios_Workout'"
      ]
     },
     "metadata": {},
     "output_type": "display_data"
    }
   ],
   "source": [
    "import os\n",
    "os.getcwd()\n"
   ]
  },
  {
   "cell_type": "markdown",
   "id": "043e63e1",
   "metadata": {},
   "source": [
    "## Centrar la talba y su texto\n",
    "\n",
    "<div align=\"center\">\n",
    "\n",
    "|**Fundamentals**|**Data Analysis**|**Machine Learning**|**Data & Business**|\n",
    "|:-:|:-:|:-:|:-:|\n",
    "|Jupyter|SQL|Supervisado|API|\n",
    "|GitHub|Estadística|No Supervisado|Despliegue|\n",
    "|Python|EDA|Deep Learning|Cloud Computing|\n",
    "\n",
    "</div>"
   ]
  },
  {
   "cell_type": "markdown",
   "id": "30e994f3",
   "metadata": {},
   "source": [
    "## Line breaks\n",
    "- Markdown: doble espacio al final de la frase\n",
    "- HTML: \\<br>\n",
    "\n",
    "Test   \n",
    "doble espacio  \n",
    "\n",
    "Test <br>\n",
    "break\n",
    "\n"
   ]
  },
  {
   "cell_type": "markdown",
   "id": "335bab8b",
   "metadata": {},
   "source": [
    "## Ejercicio II de S1U2\n",
    "\n",
    "Añadí bloque con 'len' para validar que el input del usuario sean solamente 3 números"
   ]
  },
  {
   "cell_type": "code",
   "execution_count": null,
   "id": "226213c8",
   "metadata": {},
   "outputs": [],
   "source": [
    "# Pedir tres números enteros\n",
    "num = (input(\"Introduzca 3 números enteros separados por comas. Ejemplo: 1,2,3\"))\n",
    "print(f\"Estos son tus números: {num}\")\n",
    "\n",
    "# Convertir input en lista de números enteros\n",
    "while True:\n",
    "    try:\n",
    "        lista = list(map(int,num.split(\",\")))\n",
    "        break\n",
    "    except ValueError:\n",
    "        print(\"El formato de números es incorrecto, introdúcelos de nuevo\")\n",
    "\n",
    "# ¡EXTRA! VALIDO QUE SEAN SOLAMENTE 3 NÚMEROS (NO LO PUSE EN ENTREGA)\n",
    "if len(lista) != 3:\n",
    "    print(\"Debes introducir exactamente tres números\")\n",
    "    quit()\n",
    "\n",
    "# Determinar el número máximo, el mínimo y la suma total\n",
    "num_max = max(lista)\n",
    "num_min = min(lista)\n",
    "num_sum = sum(lista)\n",
    "\n",
    "print(f\"El número máximo es {num_max}\")\n",
    "print(f\"El número mínimo es {num_min}\")\n",
    "print(f\"La suma de los números es {num_sum}\")\n",
    "\n",
    "# Determinar si la premisa es cierta \n",
    "if (num_max - num_min) == (num_sum/5):\n",
    "    print(\"La afirmación es CIERTA\")\n",
    "else:\n",
    "    print(\"La afirmación es FALSA\")"
   ]
  }
 ],
 "metadata": {
  "language_info": {
   "name": "python"
  }
 },
 "nbformat": 4,
 "nbformat_minor": 5
}
