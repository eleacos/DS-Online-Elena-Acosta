{
 "cells": [
  {
   "cell_type": "markdown",
   "id": "81049583",
   "metadata": {},
   "source": [
    "# Mis test personales"
   ]
  },
  {
   "cell_type": "markdown",
   "id": "b6585795",
   "metadata": {},
   "source": [
    "## Comprobar dir del notebook:"
   ]
  },
  {
   "cell_type": "code",
   "execution_count": null,
   "id": "336c8680",
   "metadata": {},
   "outputs": [
    {
     "data": {
      "text/plain": [
       "'c:\\\\Users\\\\elena\\\\Desktop\\\\ds_bootcamp\\\\bootcamp_data\\\\DS-Online-Elena-Acosta\\\\01_Programacion_Basica\\\\Sprint_01\\\\Unidad_01_Introduccion_Herramientas\\\\02_Ejercicios_Workout'"
      ]
     },
     "metadata": {},
     "output_type": "display_data"
    }
   ],
   "source": [
    "import os\n",
    "os.getcwd()\n"
   ]
  },
  {
   "cell_type": "markdown",
   "id": "043e63e1",
   "metadata": {},
   "source": [
    "## Centrar la talba y su texto\n",
    "\n",
    "<div align=\"center\">\n",
    "\n",
    "|**Fundamentals**|**Data Analysis**|**Machine Learning**|**Data & Business**|\n",
    "|:-:|:-:|:-:|:-:|\n",
    "|Jupyter|SQL|Supervisado|API|\n",
    "|GitHub|Estadística|No Supervisado|Despliegue|\n",
    "|Python|EDA|Deep Learning|Cloud Computing|\n",
    "\n",
    "</div>"
   ]
  },
  {
   "cell_type": "markdown",
   "id": "30e994f3",
   "metadata": {},
   "source": [
    "## Line breaks\n",
    "- Markdown: doble espacio al final de la frase\n",
    "- HTML: \\<br>\n",
    "\n",
    "Test   \n",
    "doble espacio  \n",
    "\n",
    "Test <br>\n",
    "break\n",
    "\n"
   ]
  }
 ],
 "metadata": {
  "language_info": {
   "name": "python"
  }
 },
 "nbformat": 4,
 "nbformat_minor": 5
}
